{
 "cells": [
  {
   "cell_type": "code",
   "execution_count": 1,
   "metadata": {},
   "outputs": [],
   "source": [
    "import pandas as pd \n",
    "import gurobipy as gp \n",
    "from gurobipy import GRB\n",
    "import warnings \n",
    "\n",
    "warnings.filterwarnings('ignore')"
   ]
  },
  {
   "cell_type": "code",
   "execution_count": 2,
   "metadata": {},
   "outputs": [],
   "source": [
    "players = pd.read_csv('players2.csv', header = 0)"
   ]
  },
  {
   "cell_type": "code",
   "execution_count": 3,
   "metadata": {},
   "outputs": [
    {
     "data": {
      "text/plain": [
       "Index(['Unnamed: 0', 'Name', 'Normalized_WAR', 'off', 'st_pit', 'rl_pit',\n",
       "       'team', 'salary', 'position', 'Arizona', 'Atlanta', 'Baltimore',\n",
       "       'Boston', 'Chic. Cubs', 'Chic. White Sox', 'Chicago Cubs', 'Cincinnati',\n",
       "       'Cleveland', 'Colorado', 'Detroit', 'Houston', 'Kansas City',\n",
       "       'L.A. Angels', 'L.A. Dodgers', 'Miami', 'Milwaukee', 'Minnesota',\n",
       "       'N.Y. Mets', 'N.Y. Yankees', 'Oakland', 'Philadelphia', 'Pittsburgh',\n",
       "       'San Diego', 'San Francisco', 'Seattle', 'St. Louis', 'Tampa Bay',\n",
       "       'Texas', 'Toronto', 'Washington', '0', '1B', '2B', '3B', 'C', 'CF',\n",
       "       'DH', 'INF', 'LF', 'OF', 'RF', 'RP', 'SP', 'SS'],\n",
       "      dtype='object')"
      ]
     },
     "execution_count": 3,
     "metadata": {},
     "output_type": "execute_result"
    }
   ],
   "source": [
    "players.columns"
   ]
  },
  {
   "cell_type": "code",
   "execution_count": 4,
   "metadata": {},
   "outputs": [],
   "source": [
    "players['10_mil'] = 0\n",
    "players['5_10_mil'] = 0\n",
    "players['2_5_mil'] = 0 \n",
    "players['0_2_mil'] = 0 \n",
    "\n",
    "for i in range(len(players)):\n",
    "    if players.salary[i] >= 10000000:\n",
    "        players['10_mil'][i] = 1\n",
    "    elif 5000000 <= players.salary[i] <= 10000000:\n",
    "        players['5_10_mil'][i] = 1\n",
    "    elif 2000000 <= players.salary[i] <= 5000000:\n",
    "        players['2_5_mil'][i] = 1 \n",
    "    else: \n",
    "        players['0_2_mil'][i] = 1"
   ]
  },
  {
   "cell_type": "code",
   "execution_count": 5,
   "metadata": {},
   "outputs": [
    {
     "data": {
      "text/html": [
       "<div>\n",
       "<style scoped>\n",
       "    .dataframe tbody tr th:only-of-type {\n",
       "        vertical-align: middle;\n",
       "    }\n",
       "\n",
       "    .dataframe tbody tr th {\n",
       "        vertical-align: top;\n",
       "    }\n",
       "\n",
       "    .dataframe thead th {\n",
       "        text-align: right;\n",
       "    }\n",
       "</style>\n",
       "<table border=\"1\" class=\"dataframe\">\n",
       "  <thead>\n",
       "    <tr style=\"text-align: right;\">\n",
       "      <th></th>\n",
       "      <th>Unnamed: 0</th>\n",
       "      <th>Name</th>\n",
       "      <th>Normalized_WAR</th>\n",
       "      <th>off</th>\n",
       "      <th>st_pit</th>\n",
       "      <th>rl_pit</th>\n",
       "      <th>team</th>\n",
       "      <th>salary</th>\n",
       "      <th>position</th>\n",
       "      <th>Arizona</th>\n",
       "      <th>...</th>\n",
       "      <th>LF</th>\n",
       "      <th>OF</th>\n",
       "      <th>RF</th>\n",
       "      <th>RP</th>\n",
       "      <th>SP</th>\n",
       "      <th>SS</th>\n",
       "      <th>10_mil</th>\n",
       "      <th>5_10_mil</th>\n",
       "      <th>2_5_mil</th>\n",
       "      <th>0_2_mil</th>\n",
       "    </tr>\n",
       "  </thead>\n",
       "  <tbody>\n",
       "    <tr>\n",
       "      <th>0</th>\n",
       "      <td>0</td>\n",
       "      <td>Trea Turner</td>\n",
       "      <td>6.4</td>\n",
       "      <td>1</td>\n",
       "      <td>0</td>\n",
       "      <td>0</td>\n",
       "      <td>Washington</td>\n",
       "      <td>13000000</td>\n",
       "      <td>SS</td>\n",
       "      <td>0</td>\n",
       "      <td>...</td>\n",
       "      <td>0</td>\n",
       "      <td>0</td>\n",
       "      <td>0</td>\n",
       "      <td>0</td>\n",
       "      <td>0</td>\n",
       "      <td>1</td>\n",
       "      <td>1</td>\n",
       "      <td>0</td>\n",
       "      <td>0</td>\n",
       "      <td>0</td>\n",
       "    </tr>\n",
       "    <tr>\n",
       "      <th>1</th>\n",
       "      <td>1</td>\n",
       "      <td>Vladimir Guerrero Jr.</td>\n",
       "      <td>5.8</td>\n",
       "      <td>1</td>\n",
       "      <td>0</td>\n",
       "      <td>0</td>\n",
       "      <td>Toronto</td>\n",
       "      <td>605400</td>\n",
       "      <td>OF</td>\n",
       "      <td>0</td>\n",
       "      <td>...</td>\n",
       "      <td>0</td>\n",
       "      <td>1</td>\n",
       "      <td>0</td>\n",
       "      <td>0</td>\n",
       "      <td>0</td>\n",
       "      <td>0</td>\n",
       "      <td>0</td>\n",
       "      <td>0</td>\n",
       "      <td>0</td>\n",
       "      <td>1</td>\n",
       "    </tr>\n",
       "    <tr>\n",
       "      <th>2</th>\n",
       "      <td>2</td>\n",
       "      <td>Bryce Harper</td>\n",
       "      <td>6.6</td>\n",
       "      <td>1</td>\n",
       "      <td>0</td>\n",
       "      <td>0</td>\n",
       "      <td>Philadelphia</td>\n",
       "      <td>27538462</td>\n",
       "      <td>OF</td>\n",
       "      <td>0</td>\n",
       "      <td>...</td>\n",
       "      <td>0</td>\n",
       "      <td>1</td>\n",
       "      <td>0</td>\n",
       "      <td>0</td>\n",
       "      <td>0</td>\n",
       "      <td>0</td>\n",
       "      <td>1</td>\n",
       "      <td>0</td>\n",
       "      <td>0</td>\n",
       "      <td>0</td>\n",
       "    </tr>\n",
       "    <tr>\n",
       "      <th>3</th>\n",
       "      <td>3</td>\n",
       "      <td>Marcus Semien</td>\n",
       "      <td>5.5</td>\n",
       "      <td>1</td>\n",
       "      <td>0</td>\n",
       "      <td>0</td>\n",
       "      <td>Toronto</td>\n",
       "      <td>18000000</td>\n",
       "      <td>2B</td>\n",
       "      <td>0</td>\n",
       "      <td>...</td>\n",
       "      <td>0</td>\n",
       "      <td>0</td>\n",
       "      <td>0</td>\n",
       "      <td>0</td>\n",
       "      <td>0</td>\n",
       "      <td>0</td>\n",
       "      <td>1</td>\n",
       "      <td>0</td>\n",
       "      <td>0</td>\n",
       "      <td>0</td>\n",
       "    </tr>\n",
       "    <tr>\n",
       "      <th>4</th>\n",
       "      <td>4</td>\n",
       "      <td>Juan Soto</td>\n",
       "      <td>6.1</td>\n",
       "      <td>1</td>\n",
       "      <td>0</td>\n",
       "      <td>0</td>\n",
       "      <td>Washington</td>\n",
       "      <td>8500000</td>\n",
       "      <td>OF</td>\n",
       "      <td>0</td>\n",
       "      <td>...</td>\n",
       "      <td>0</td>\n",
       "      <td>1</td>\n",
       "      <td>0</td>\n",
       "      <td>0</td>\n",
       "      <td>0</td>\n",
       "      <td>0</td>\n",
       "      <td>0</td>\n",
       "      <td>1</td>\n",
       "      <td>0</td>\n",
       "      <td>0</td>\n",
       "    </tr>\n",
       "    <tr>\n",
       "      <th>...</th>\n",
       "      <td>...</td>\n",
       "      <td>...</td>\n",
       "      <td>...</td>\n",
       "      <td>...</td>\n",
       "      <td>...</td>\n",
       "      <td>...</td>\n",
       "      <td>...</td>\n",
       "      <td>...</td>\n",
       "      <td>...</td>\n",
       "      <td>...</td>\n",
       "      <td>...</td>\n",
       "      <td>...</td>\n",
       "      <td>...</td>\n",
       "      <td>...</td>\n",
       "      <td>...</td>\n",
       "      <td>...</td>\n",
       "      <td>...</td>\n",
       "      <td>...</td>\n",
       "      <td>...</td>\n",
       "      <td>...</td>\n",
       "      <td>...</td>\n",
       "    </tr>\n",
       "    <tr>\n",
       "      <th>639</th>\n",
       "      <td>639</td>\n",
       "      <td>Albert Abreu</td>\n",
       "      <td>-1.0</td>\n",
       "      <td>0</td>\n",
       "      <td>0</td>\n",
       "      <td>1</td>\n",
       "      <td>N.Y. Yankees</td>\n",
       "      <td>575000</td>\n",
       "      <td>RP</td>\n",
       "      <td>0</td>\n",
       "      <td>...</td>\n",
       "      <td>0</td>\n",
       "      <td>0</td>\n",
       "      <td>0</td>\n",
       "      <td>1</td>\n",
       "      <td>0</td>\n",
       "      <td>0</td>\n",
       "      <td>0</td>\n",
       "      <td>0</td>\n",
       "      <td>0</td>\n",
       "      <td>1</td>\n",
       "    </tr>\n",
       "    <tr>\n",
       "      <th>640</th>\n",
       "      <td>640</td>\n",
       "      <td>Kyle Keller</td>\n",
       "      <td>-1.1</td>\n",
       "      <td>0</td>\n",
       "      <td>0</td>\n",
       "      <td>1</td>\n",
       "      <td>Pittsburgh</td>\n",
       "      <td>575000</td>\n",
       "      <td>RP</td>\n",
       "      <td>0</td>\n",
       "      <td>...</td>\n",
       "      <td>0</td>\n",
       "      <td>0</td>\n",
       "      <td>0</td>\n",
       "      <td>1</td>\n",
       "      <td>0</td>\n",
       "      <td>0</td>\n",
       "      <td>0</td>\n",
       "      <td>0</td>\n",
       "      <td>0</td>\n",
       "      <td>1</td>\n",
       "    </tr>\n",
       "    <tr>\n",
       "      <th>641</th>\n",
       "      <td>641</td>\n",
       "      <td>Bryan Garcia</td>\n",
       "      <td>-1.4</td>\n",
       "      <td>0</td>\n",
       "      <td>0</td>\n",
       "      <td>1</td>\n",
       "      <td>Detroit</td>\n",
       "      <td>576600</td>\n",
       "      <td>RP</td>\n",
       "      <td>0</td>\n",
       "      <td>...</td>\n",
       "      <td>0</td>\n",
       "      <td>0</td>\n",
       "      <td>0</td>\n",
       "      <td>1</td>\n",
       "      <td>0</td>\n",
       "      <td>0</td>\n",
       "      <td>0</td>\n",
       "      <td>0</td>\n",
       "      <td>0</td>\n",
       "      <td>1</td>\n",
       "    </tr>\n",
       "    <tr>\n",
       "      <th>642</th>\n",
       "      <td>642</td>\n",
       "      <td>Alex Young</td>\n",
       "      <td>-1.2</td>\n",
       "      <td>0</td>\n",
       "      <td>0</td>\n",
       "      <td>1</td>\n",
       "      <td>Arizona</td>\n",
       "      <td>603000</td>\n",
       "      <td>RP</td>\n",
       "      <td>1</td>\n",
       "      <td>...</td>\n",
       "      <td>0</td>\n",
       "      <td>0</td>\n",
       "      <td>0</td>\n",
       "      <td>1</td>\n",
       "      <td>0</td>\n",
       "      <td>0</td>\n",
       "      <td>0</td>\n",
       "      <td>0</td>\n",
       "      <td>0</td>\n",
       "      <td>1</td>\n",
       "    </tr>\n",
       "    <tr>\n",
       "      <th>643</th>\n",
       "      <td>643</td>\n",
       "      <td>Adam Plutko</td>\n",
       "      <td>-1.1</td>\n",
       "      <td>0</td>\n",
       "      <td>0</td>\n",
       "      <td>1</td>\n",
       "      <td>Baltimore</td>\n",
       "      <td>584200</td>\n",
       "      <td>RP</td>\n",
       "      <td>0</td>\n",
       "      <td>...</td>\n",
       "      <td>0</td>\n",
       "      <td>0</td>\n",
       "      <td>0</td>\n",
       "      <td>1</td>\n",
       "      <td>0</td>\n",
       "      <td>0</td>\n",
       "      <td>0</td>\n",
       "      <td>0</td>\n",
       "      <td>0</td>\n",
       "      <td>1</td>\n",
       "    </tr>\n",
       "  </tbody>\n",
       "</table>\n",
       "<p>644 rows × 58 columns</p>\n",
       "</div>"
      ],
      "text/plain": [
       "     Unnamed: 0                   Name  Normalized_WAR  off  st_pit  rl_pit  \\\n",
       "0             0            Trea Turner             6.4    1       0       0   \n",
       "1             1  Vladimir Guerrero Jr.             5.8    1       0       0   \n",
       "2             2           Bryce Harper             6.6    1       0       0   \n",
       "3             3          Marcus Semien             5.5    1       0       0   \n",
       "4             4              Juan Soto             6.1    1       0       0   \n",
       "..          ...                    ...             ...  ...     ...     ...   \n",
       "639         639           Albert Abreu            -1.0    0       0       1   \n",
       "640         640            Kyle Keller            -1.1    0       0       1   \n",
       "641         641           Bryan Garcia            -1.4    0       0       1   \n",
       "642         642             Alex Young            -1.2    0       0       1   \n",
       "643         643            Adam Plutko            -1.1    0       0       1   \n",
       "\n",
       "             team    salary position  Arizona  ...  LF  OF  RF  RP  SP  SS  \\\n",
       "0      Washington  13000000       SS        0  ...   0   0   0   0   0   1   \n",
       "1         Toronto    605400       OF        0  ...   0   1   0   0   0   0   \n",
       "2    Philadelphia  27538462       OF        0  ...   0   1   0   0   0   0   \n",
       "3         Toronto  18000000       2B        0  ...   0   0   0   0   0   0   \n",
       "4      Washington   8500000       OF        0  ...   0   1   0   0   0   0   \n",
       "..            ...       ...      ...      ...  ...  ..  ..  ..  ..  ..  ..   \n",
       "639  N.Y. Yankees    575000       RP        0  ...   0   0   0   1   0   0   \n",
       "640    Pittsburgh    575000       RP        0  ...   0   0   0   1   0   0   \n",
       "641       Detroit    576600       RP        0  ...   0   0   0   1   0   0   \n",
       "642       Arizona    603000       RP        1  ...   0   0   0   1   0   0   \n",
       "643     Baltimore    584200       RP        0  ...   0   0   0   1   0   0   \n",
       "\n",
       "     10_mil  5_10_mil  2_5_mil  0_2_mil  \n",
       "0         1         0        0        0  \n",
       "1         0         0        0        1  \n",
       "2         1         0        0        0  \n",
       "3         1         0        0        0  \n",
       "4         0         1        0        0  \n",
       "..      ...       ...      ...      ...  \n",
       "639       0         0        0        1  \n",
       "640       0         0        0        1  \n",
       "641       0         0        0        1  \n",
       "642       0         0        0        1  \n",
       "643       0         0        0        1  \n",
       "\n",
       "[644 rows x 58 columns]"
      ]
     },
     "execution_count": 5,
     "metadata": {},
     "output_type": "execute_result"
    }
   ],
   "source": [
    "players"
   ]
  },
  {
   "cell_type": "code",
   "execution_count": 6,
   "metadata": {},
   "outputs": [
    {
     "name": "stdout",
     "output_type": "stream",
     "text": [
      "Academic license - for non-commercial use only - expires 2022-09-25\n",
      "Using license file /Users/youssefragab/gurobi.lic\n"
     ]
    }
   ],
   "source": [
    "m = gp.Model('Player_selection')"
   ]
  },
  {
   "cell_type": "code",
   "execution_count": 7,
   "metadata": {},
   "outputs": [],
   "source": [
    "x = m.addVars(players.index, vtype = GRB.BINARY, name = 'x')"
   ]
  },
  {
   "cell_type": "code",
   "execution_count": 8,
   "metadata": {},
   "outputs": [],
   "source": [
    "budget = 132000000"
   ]
  },
  {
   "cell_type": "code",
   "execution_count": 9,
   "metadata": {},
   "outputs": [
    {
     "data": {
      "text/plain": [
       "<gurobi.Constr *Awaiting Model Update*>"
      ]
     },
     "execution_count": 9,
     "metadata": {},
     "output_type": "execute_result"
    }
   ],
   "source": [
    "# Constraints for number of pitchers \n",
    "m.addConstr(sum(x[i] for i in players.index if players.SP[i] == 1) == 5)\n",
    "m.addConstr(sum(x[i] for i in players.index if players.RP[i] == 1) == 7)\n",
    "\n",
    "# Contstraint for number of catchers\n",
    "m.addConstr(sum(x[i] for i in players.index if players['C'][i] == 1) == 2)\n",
    "\n",
    "# Constraint for number of basemen \n",
    "m.addConstr(sum(x[i] for i in players.index if players['1B'][i] == 1) >= 1)\n",
    "m.addConstr(sum(x[i] for i in players.index if players['2B'][i] == 1) >= 1)\n",
    "m.addConstr(sum(x[i] for i in players.index if players['3B'][i] == 1) >= 1)\n",
    "m.addConstr(sum(x[i] for i in players.index if players['SS'][i] == 1) == 3)\n",
    "\n",
    "# Constraints for number of outfielders\n",
    "m.addConstr(sum(x[i] for i in players.index if players['LF'][i] == 1) >= 1)\n",
    "m.addConstr(sum(x[i] for i in players.index if players['CF'][i] == 1) >= 1)\n",
    "m.addConstr(sum(x[i] for i in players.index if players['RF'][i] == 1) >= 1)\n",
    "\n",
    "# Constraint for total number of players \n",
    "m.addConstr(sum(x[i] for i in players.index) == 25 )"
   ]
  },
  {
   "cell_type": "code",
   "execution_count": 10,
   "metadata": {},
   "outputs": [],
   "source": [
    "for j in set(list(players.team)):\n",
    "    m.addConstr(sum(x[i] for i in players.index if players[j][i] == 1) <= 2)"
   ]
  },
  {
   "cell_type": "code",
   "execution_count": 11,
   "metadata": {},
   "outputs": [
    {
     "data": {
      "text/plain": [
       "<gurobi.Constr *Awaiting Model Update*>"
      ]
     },
     "execution_count": 11,
     "metadata": {},
     "output_type": "execute_result"
    }
   ],
   "source": [
    "# Constraints for number of players in each price bracket \n",
    "m.addConstr(sum(x[i] for i in players.index if players['10_mil'][i] == 1) <= 5)\n",
    "\n",
    "m.addConstr(sum(x[i] for i in players.index if players['5_10_mil'][i] == 1) <= 4)\n",
    "\n",
    "m.addConstr(sum(x[i] for i in players.index if players['2_5_mil'][i] == 1) <= 4)"
   ]
  },
  {
   "cell_type": "code",
   "execution_count": 12,
   "metadata": {},
   "outputs": [
    {
     "data": {
      "text/plain": [
       "<gurobi.Constr *Awaiting Model Update*>"
      ]
     },
     "execution_count": 12,
     "metadata": {},
     "output_type": "execute_result"
    }
   ],
   "source": [
    "# Total budget constraint \n",
    "m.addConstr(sum(x[i] * players.salary[i] for i in players.index) <= budget)"
   ]
  },
  {
   "cell_type": "code",
   "execution_count": 13,
   "metadata": {},
   "outputs": [],
   "source": [
    "# Setting up objective function\n",
    "obj = sum(x[i] * players.Normalized_WAR[i] for i in players.index)"
   ]
  },
  {
   "cell_type": "code",
   "execution_count": 14,
   "metadata": {},
   "outputs": [],
   "source": [
    "m.setObjective(obj, GRB.MAXIMIZE)"
   ]
  },
  {
   "cell_type": "code",
   "execution_count": 15,
   "metadata": {},
   "outputs": [
    {
     "name": "stdout",
     "output_type": "stream",
     "text": [
      "Gurobi Optimizer version 9.1.2 build v9.1.2rc0 (mac64)\n",
      "Thread count: 6 physical cores, 12 logical processors, using up to 12 threads\n",
      "Optimize a model with 46 rows, 644 columns and 2771 nonzeros\n",
      "Model fingerprint: 0x99e68525\n",
      "Variable types: 0 continuous, 644 integer (644 binary)\n",
      "Coefficient statistics:\n",
      "  Matrix range     [1e+00, 4e+07]\n",
      "  Objective range  [1e-01, 1e+01]\n",
      "  Bounds range     [1e+00, 1e+00]\n",
      "  RHS range        [1e+00, 1e+08]\n",
      "Found heuristic solution: objective 30.6000000\n",
      "Presolve removed 0 rows and 14 columns\n",
      "Presolve time: 0.00s\n",
      "Presolved: 46 rows, 630 columns, 2282 nonzeros\n",
      "Found heuristic solution: objective 117.2000000\n",
      "Variable types: 0 continuous, 630 integer (626 binary)\n",
      "\n",
      "Root relaxation: objective 1.236119e+02, 64 iterations, 0.00 seconds\n",
      "\n",
      "    Nodes    |    Current Node    |     Objective Bounds      |     Work\n",
      " Expl Unexpl |  Obj  Depth IntInf | Incumbent    BestBd   Gap | It/Node Time\n",
      "\n",
      "     0     0  123.61193    0    6  117.20000  123.61193  5.47%     -    0s\n",
      "H    0     0                     123.5000000  123.61193  0.09%     -    0s\n",
      "\n",
      "Cutting planes:\n",
      "  Cover: 1\n",
      "\n",
      "Explored 1 nodes (64 simplex iterations) in 0.03 seconds\n",
      "Thread count was 12 (of 12 available processors)\n",
      "\n",
      "Solution count 3: 123.5 117.2 30.6 \n",
      "\n",
      "Optimal solution found (tolerance 1.00e-04)\n",
      "Best objective 1.235000000000e+02, best bound 1.235000000000e+02, gap 0.0000%\n"
     ]
    }
   ],
   "source": [
    "m.optimize()"
   ]
  },
  {
   "cell_type": "code",
   "execution_count": 16,
   "metadata": {},
   "outputs": [
    {
     "name": "stdout",
     "output_type": "stream",
     "text": [
      "Drafted Player: Trea Turner       Washington\n",
      "Drafted Player: Jose Ramirez       Cleveland\n",
      "Drafted Player: Fernando Tatis Jr.       San Diego\n",
      "Drafted Player: Carlos Correa       Houston\n",
      "Drafted Player: Tyler O'Neill       St. Louis\n",
      "Drafted Player: Brandon Lowe       Tampa Bay\n",
      "Drafted Player: Will Smith       L.A. Dodgers\n",
      "Drafted Player: Mike Zunino       Tampa Bay\n",
      "Drafted Player: Ronald Acuna Jr.       Atlanta\n",
      "Drafted Player: Adolis Garcia       Texas\n",
      "Drafted Player: Darin Ruf       San Francisco\n",
      "Drafted Player: Daulton Varsho       Arizona\n",
      "Drafted Player: LaMonte Wade Jr.       San Francisco\n",
      "Drafted Player: Corbin Burnes       Milwaukee\n",
      "Drafted Player: Zack Wheeler       Philadelphia\n",
      "Drafted Player: Carlos Rodon       Chic. White Sox\n",
      "Drafted Player: Jacob deGrom       N.Y. Mets\n",
      "Drafted Player: Trevor Rogers       Miami\n",
      "Drafted Player: Luis Garcia       Houston\n",
      "Drafted Player: Cole Irvin       Oakland\n",
      "Drafted Player: Huascar Ynoa       Atlanta\n",
      "Drafted Player: Liam Hendriks       Chic. White Sox\n",
      "Drafted Player: Josh Hader       Milwaukee\n",
      "Drafted Player: Jonathan Loaisiga       N.Y. Yankees\n",
      "Drafted Player: Taylor Rogers       Minnesota\n"
     ]
    }
   ],
   "source": [
    "for v in m.getVars():\n",
    "    if v.x == 1:\n",
    "        print('Drafted Player:', players.Name[int(v.varName.replace('x[', '').replace(']', ''))], '     ', players.team[int(v.varName.replace('x[', '').replace(']', ''))])"
   ]
  },
  {
   "cell_type": "code",
   "execution_count": 17,
   "metadata": {},
   "outputs": [],
   "source": [
    "team_list = []\n",
    "for i in players.index:\n",
    "    if m.getVars()[i].x == 1:\n",
    "        team_list.append(players.loc[i, ['Name', 'position', 'team', 'salary', 'Normalized_WAR']])"
   ]
  },
  {
   "cell_type": "code",
   "execution_count": 18,
   "metadata": {},
   "outputs": [],
   "source": [
    "team_df =pd.DataFrame(team_list)"
   ]
  },
  {
   "cell_type": "code",
   "execution_count": 19,
   "metadata": {},
   "outputs": [],
   "source": [
    "team_df.to_clipboard()"
   ]
  },
  {
   "cell_type": "code",
   "execution_count": 20,
   "metadata": {},
   "outputs": [
    {
     "data": {
      "text/plain": [
       "Name    Trea Turner\n",
       "Name: 0, dtype: object"
      ]
     },
     "metadata": {},
     "output_type": "display_data"
    },
    {
     "data": {
      "text/plain": [
       "Name    Jose Ramirez\n",
       "Name: 5, dtype: object"
      ]
     },
     "metadata": {},
     "output_type": "display_data"
    },
    {
     "data": {
      "text/plain": [
       "Name    Fernando Tatis Jr.\n",
       "Name: 6, dtype: object"
      ]
     },
     "metadata": {},
     "output_type": "display_data"
    },
    {
     "data": {
      "text/plain": [
       "Name    Carlos Correa\n",
       "Name: 7, dtype: object"
      ]
     },
     "metadata": {},
     "output_type": "display_data"
    },
    {
     "data": {
      "text/plain": [
       "Name    Tyler O'Neill\n",
       "Name: 12, dtype: object"
      ]
     },
     "metadata": {},
     "output_type": "display_data"
    },
    {
     "data": {
      "text/plain": [
       "Name    Brandon Lowe\n",
       "Name: 14, dtype: object"
      ]
     },
     "metadata": {},
     "output_type": "display_data"
    },
    {
     "data": {
      "text/plain": [
       "Name    Will Smith\n",
       "Name: 25, dtype: object"
      ]
     },
     "metadata": {},
     "output_type": "display_data"
    },
    {
     "data": {
      "text/plain": [
       "Name    Mike Zunino\n",
       "Name: 26, dtype: object"
      ]
     },
     "metadata": {},
     "output_type": "display_data"
    },
    {
     "data": {
      "text/plain": [
       "Name    Ronald Acuna Jr.\n",
       "Name: 34, dtype: object"
      ]
     },
     "metadata": {},
     "output_type": "display_data"
    },
    {
     "data": {
      "text/plain": [
       "Name    Adolis Garcia\n",
       "Name: 81, dtype: object"
      ]
     },
     "metadata": {},
     "output_type": "display_data"
    },
    {
     "data": {
      "text/plain": [
       "Name    Darin Ruf\n",
       "Name: 97, dtype: object"
      ]
     },
     "metadata": {},
     "output_type": "display_data"
    },
    {
     "data": {
      "text/plain": [
       "Name    Daulton Varsho\n",
       "Name: 125, dtype: object"
      ]
     },
     "metadata": {},
     "output_type": "display_data"
    },
    {
     "data": {
      "text/plain": [
       "Name    LaMonte Wade Jr.\n",
       "Name: 146, dtype: object"
      ]
     },
     "metadata": {},
     "output_type": "display_data"
    },
    {
     "data": {
      "text/plain": [
       "Name    Corbin Burnes\n",
       "Name: 262, dtype: object"
      ]
     },
     "metadata": {},
     "output_type": "display_data"
    },
    {
     "data": {
      "text/plain": [
       "Name    Zack Wheeler\n",
       "Name: 263, dtype: object"
      ]
     },
     "metadata": {},
     "output_type": "display_data"
    },
    {
     "data": {
      "text/plain": [
       "Name    Carlos Rodon\n",
       "Name: 269, dtype: object"
      ]
     },
     "metadata": {},
     "output_type": "display_data"
    },
    {
     "data": {
      "text/plain": [
       "Name    Jacob deGrom\n",
       "Name: 270, dtype: object"
      ]
     },
     "metadata": {},
     "output_type": "display_data"
    },
    {
     "data": {
      "text/plain": [
       "Name    Trevor Rogers\n",
       "Name: 276, dtype: object"
      ]
     },
     "metadata": {},
     "output_type": "display_data"
    },
    {
     "data": {
      "text/plain": [
       "Name    Luis Garcia\n",
       "Name: 300, dtype: object"
      ]
     },
     "metadata": {},
     "output_type": "display_data"
    },
    {
     "data": {
      "text/plain": [
       "Name    Cole Irvin\n",
       "Name: 323, dtype: object"
      ]
     },
     "metadata": {},
     "output_type": "display_data"
    },
    {
     "data": {
      "text/plain": [
       "Name    Huascar Ynoa\n",
       "Name: 344, dtype: object"
      ]
     },
     "metadata": {},
     "output_type": "display_data"
    },
    {
     "data": {
      "text/plain": [
       "Name    Liam Hendriks\n",
       "Name: 389, dtype: object"
      ]
     },
     "metadata": {},
     "output_type": "display_data"
    },
    {
     "data": {
      "text/plain": [
       "Name    Josh Hader\n",
       "Name: 390, dtype: object"
      ]
     },
     "metadata": {},
     "output_type": "display_data"
    },
    {
     "data": {
      "text/plain": [
       "Name    Jonathan Loaisiga\n",
       "Name: 392, dtype: object"
      ]
     },
     "metadata": {},
     "output_type": "display_data"
    },
    {
     "data": {
      "text/plain": [
       "Name    Taylor Rogers\n",
       "Name: 405, dtype: object"
      ]
     },
     "metadata": {},
     "output_type": "display_data"
    }
   ],
   "source": [
    "for i in players.index:\n",
    "    if m.getVars()[i].x == 1:\n",
    "        display(players.loc[i, ['Name']])"
   ]
  },
  {
   "cell_type": "code",
   "execution_count": 21,
   "metadata": {},
   "outputs": [
    {
     "data": {
      "text/plain": [
       "Name        Bryan Reynolds\n",
       "position                OF\n",
       "salary              601000\n",
       "team            Pittsburgh\n",
       "Name: 10, dtype: object"
      ]
     },
     "execution_count": 21,
     "metadata": {},
     "output_type": "execute_result"
    }
   ],
   "source": [
    "players.loc[10, ['Name', 'position', 'salary', 'team']]"
   ]
  },
  {
   "cell_type": "code",
   "execution_count": 22,
   "metadata": {},
   "outputs": [
    {
     "ename": "NameError",
     "evalue": "name 'final_df' is not defined",
     "output_type": "error",
     "traceback": [
      "\u001b[0;31m---------------------------------------------------------------------------\u001b[0m",
      "\u001b[0;31mNameError\u001b[0m                                 Traceback (most recent call last)",
      "\u001b[0;32m<ipython-input-22-84ad18e3875c>\u001b[0m in \u001b[0;36m<module>\u001b[0;34m\u001b[0m\n\u001b[0;32m----> 1\u001b[0;31m \u001b[0mdisplay\u001b[0m\u001b[0;34m(\u001b[0m\u001b[0mfinal_df\u001b[0m\u001b[0;34m)\u001b[0m\u001b[0;34m\u001b[0m\u001b[0;34m\u001b[0m\u001b[0m\n\u001b[0m",
      "\u001b[0;31mNameError\u001b[0m: name 'final_df' is not defined"
     ]
    }
   ],
   "source": [
    "display(final_df)"
   ]
  },
  {
   "cell_type": "code",
   "execution_count": null,
   "metadata": {},
   "outputs": [],
   "source": [
    "print(sum(players.salary[i] for i in players.index if m.getVars()[i].x == 1))"
   ]
  },
  {
   "cell_type": "code",
   "execution_count": null,
   "metadata": {},
   "outputs": [],
   "source": [
    "spent = 0\n",
    "for i in players.index: \n",
    "    if m.getVars()[i-1].x == 1:\n",
    "        spent += players.salary[i]\n",
    "\n",
    "print(f'Salary used: {spent}')    "
   ]
  },
  {
   "cell_type": "code",
   "execution_count": null,
   "metadata": {},
   "outputs": [],
   "source": [
    "m.display()"
   ]
  },
  {
   "cell_type": "code",
   "execution_count": null,
   "metadata": {},
   "outputs": [],
   "source": []
  },
  {
   "cell_type": "code",
   "execution_count": null,
   "metadata": {},
   "outputs": [],
   "source": []
  }
 ],
 "metadata": {
  "kernelspec": {
   "display_name": "Python 3",
   "language": "python",
   "name": "python3"
  },
  "language_info": {
   "codemirror_mode": {
    "name": "ipython",
    "version": 3
   },
   "file_extension": ".py",
   "mimetype": "text/x-python",
   "name": "python",
   "nbconvert_exporter": "python",
   "pygments_lexer": "ipython3",
   "version": "3.8.10"
  }
 },
 "nbformat": 4,
 "nbformat_minor": 4
}
